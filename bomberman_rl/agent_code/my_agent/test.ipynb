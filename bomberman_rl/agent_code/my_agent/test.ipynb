{
 "cells": [
  {
   "cell_type": "code",
   "execution_count": 1,
   "metadata": {
    "ExecuteTime": {
     "end_time": "2021-03-22T23:55:20.825735Z",
     "start_time": "2021-03-22T23:55:19.241790Z"
    }
   },
   "outputs": [],
   "source": [
    "import numpy as np\n",
    "import numpy as np\n",
    "import random\n",
    "import math\n",
    "from collections import deque\n",
    "import torch\n",
    "import torch.nn as nn\n",
    "import torch.optim as optim\n",
    "import torch.nn.functional as F"
   ]
  },
  {
   "cell_type": "code",
   "execution_count": 2,
   "metadata": {
    "ExecuteTime": {
     "end_time": "2021-03-22T23:55:20.872899Z",
     "start_time": "2021-03-22T23:55:20.831734Z"
    }
   },
   "outputs": [
    {
     "data": {
      "text/plain": [
       "array([1])"
      ]
     },
     "execution_count": 2,
     "metadata": {},
     "output_type": "execute_result"
    }
   ],
   "source": [
    "np.array([np.random.randint(0, 6)])\n"
   ]
  },
  {
   "cell_type": "code",
   "execution_count": 3,
   "metadata": {
    "ExecuteTime": {
     "end_time": "2021-03-22T23:55:20.893916Z",
     "start_time": "2021-03-22T23:55:20.878883Z"
    }
   },
   "outputs": [
    {
     "data": {
      "text/plain": [
       "[3]"
      ]
     },
     "execution_count": 3,
     "metadata": {},
     "output_type": "execute_result"
    }
   ],
   "source": [
    "[np.random.randint(0,6)]"
   ]
  },
  {
   "cell_type": "code",
   "execution_count": 4,
   "metadata": {
    "ExecuteTime": {
     "end_time": "2021-03-22T23:55:21.169427Z",
     "start_time": "2021-03-22T23:55:21.162707Z"
    }
   },
   "outputs": [],
   "source": [
    "self_field = np.zeros((17, 17))\n",
    "game_field = np.zeros((17, 17))\n",
    "explosion_field = np.zeros((17, 17))\n",
    "\n",
    "channels = []\n",
    "channels.append(self_field)\n",
    "channels.append(game_field)\n",
    "channels.append(explosion_field)"
   ]
  },
  {
   "cell_type": "code",
   "execution_count": 5,
   "metadata": {
    "ExecuteTime": {
     "end_time": "2021-03-22T23:55:21.948070Z",
     "start_time": "2021-03-22T23:55:21.942122Z"
    }
   },
   "outputs": [],
   "source": [
    "stacked_channels = np.stack(channels)"
   ]
  },
  {
   "cell_type": "code",
   "execution_count": 21,
   "metadata": {
    "ExecuteTime": {
     "end_time": "2021-03-23T00:09:44.607490Z",
     "start_time": "2021-03-23T00:09:44.596990Z"
    }
   },
   "outputs": [
    {
     "data": {
      "text/plain": [
       "torch.Size([1, 3, 17, 17])"
      ]
     },
     "execution_count": 21,
     "metadata": {},
     "output_type": "execute_result"
    }
   ],
   "source": [
    "b = torch.FloatTensor(1,3,17,17)\n",
    "b.shape"
   ]
  },
  {
   "cell_type": "code",
   "execution_count": 17,
   "metadata": {
    "ExecuteTime": {
     "end_time": "2021-03-23T00:07:23.941147Z",
     "start_time": "2021-03-23T00:07:23.931117Z"
    }
   },
   "outputs": [
    {
     "data": {
      "text/plain": [
       "torch.Size([1, 3, 17, 17])"
      ]
     },
     "execution_count": 17,
     "metadata": {},
     "output_type": "execute_result"
    }
   ],
   "source": [
    "x = torch.unsqueeze(torch.FloatTensor(stacked_channels), 0)\n",
    "x.shape"
   ]
  },
  {
   "cell_type": "code",
   "execution_count": 10,
   "metadata": {
    "ExecuteTime": {
     "end_time": "2021-03-23T00:03:16.616148Z",
     "start_time": "2021-03-23T00:03:16.610145Z"
    }
   },
   "outputs": [],
   "source": [
    "in_channels = 3\n",
    "out_channels = 6\n",
    "kernel_size = 2\n",
    "stride = 2"
   ]
  },
  {
   "cell_type": "code",
   "execution_count": 11,
   "metadata": {
    "ExecuteTime": {
     "end_time": "2021-03-23T00:03:17.898796Z",
     "start_time": "2021-03-23T00:03:17.888618Z"
    }
   },
   "outputs": [],
   "source": [
    "c1 = nn.Conv2d(in_channels, out_channels, kernel_size, stride, 0)"
   ]
  },
  {
   "cell_type": "code",
   "execution_count": 14,
   "metadata": {
    "ExecuteTime": {
     "end_time": "2021-03-23T00:06:12.640062Z",
     "start_time": "2021-03-23T00:06:12.633011Z"
    }
   },
   "outputs": [],
   "source": [
    "c1(x).shape\n",
    "y = c1(x)"
   ]
  },
  {
   "cell_type": "code",
   "execution_count": 15,
   "metadata": {
    "ExecuteTime": {
     "end_time": "2021-03-23T00:06:21.651899Z",
     "start_time": "2021-03-23T00:06:21.638676Z"
    }
   },
   "outputs": [],
   "source": [
    "y = y.view(y.size(0), -1)"
   ]
  },
  {
   "cell_type": "code",
   "execution_count": 16,
   "metadata": {
    "ExecuteTime": {
     "end_time": "2021-03-23T00:06:24.734892Z",
     "start_time": "2021-03-23T00:06:24.724954Z"
    }
   },
   "outputs": [
    {
     "data": {
      "text/plain": [
       "torch.Size([1, 384])"
      ]
     },
     "execution_count": 16,
     "metadata": {},
     "output_type": "execute_result"
    }
   ],
   "source": [
    "y.shape"
   ]
  },
  {
   "cell_type": "code",
   "execution_count": 23,
   "metadata": {
    "ExecuteTime": {
     "end_time": "2021-03-23T00:10:32.149891Z",
     "start_time": "2021-03-23T00:10:32.141951Z"
    }
   },
   "outputs": [],
   "source": [
    "def _get_conv_out(conv):\n",
    "    o = conv(torch.zeros(1, 3,17,17))\n",
    "    return int(np.prod(o.size()))"
   ]
  },
  {
   "cell_type": "code",
   "execution_count": 24,
   "metadata": {
    "ExecuteTime": {
     "end_time": "2021-03-23T00:10:32.650677Z",
     "start_time": "2021-03-23T00:10:32.637648Z"
    }
   },
   "outputs": [
    {
     "data": {
      "text/plain": [
       "384"
      ]
     },
     "execution_count": 24,
     "metadata": {},
     "output_type": "execute_result"
    }
   ],
   "source": [
    "_get_conv_out(c1)"
   ]
  },
  {
   "cell_type": "code",
   "execution_count": null,
   "metadata": {},
   "outputs": [],
   "source": []
  }
 ],
 "metadata": {
  "kernelspec": {
   "display_name": "Python 3",
   "language": "python",
   "name": "python3"
  },
  "language_info": {
   "codemirror_mode": {
    "name": "ipython",
    "version": 3
   },
   "file_extension": ".py",
   "mimetype": "text/x-python",
   "name": "python",
   "nbconvert_exporter": "python",
   "pygments_lexer": "ipython3",
   "version": "3.7.10"
  }
 },
 "nbformat": 4,
 "nbformat_minor": 2
}
